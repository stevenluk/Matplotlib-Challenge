{
 "cells": [
  {
   "cell_type": "markdown",
   "metadata": {},
   "source": [
    "## Observations and Insights"
   ]
  },
  {
   "cell_type": "markdown",
   "metadata": {},
   "source": []
  },
  {
   "cell_type": "markdown",
   "metadata": {},
   "source": [
    "## Dependencies and starter code"
   ]
  },
  {
   "cell_type": "code",
   "execution_count": 2,
   "metadata": {},
   "outputs": [],
   "source": [
    "# Dependencies and Setup\n",
    "import matplotlib.pyplot as plt\n",
    "import pandas as pd\n",
    "import scipy.stats as st\n",
    "\n",
    "\n",
    "# Study data files\n",
    "mouse_metadata = \"Mouse_metadata.csv\"\n",
    "study_results = \"Study_results.csv\"\n",
    "\n",
    "# Read the mouse data and the study results\n",
    "mouse_metadata = pd.read_csv(mouse_metadata)\n",
    "study_results = pd.read_csv(study_results)\n",
    "\n",
    "# Combine the data into a single dataset"
   ]
  },
  {
   "cell_type": "markdown",
   "metadata": {},
   "source": [
    "From the data analysis below, we can conclude three observations of the Pymaceuticals tests:\n",
    "\n",
    "(1) The first observation is about the gender of the test mice. As the pie graph shows, the test gender almost distribute equally for male and female mice. Therefore, gender should not have a large impact on the test results.\n",
    "\n",
    "(2) The second observation we can conclude is about the final tumor volume of each mouse across four regimens of interest. From the box plot, we can see that all four drug regimens do not have outliers. All the test results are within the reasonable range and there are no specific extreme test results within these four drug regimens. In addition, Propriva and Ceftamin are most effective drug specimens for controling tumor volumes.\n",
    "\n",
    "(3) The third observation we can conclude is about the relationship between weight and tumor volume of capomulin regimen. The correlation between both factors is 0.95 which means a very positive correlation between these two factors. When the weight increases, the tumor volume increases as well. From the linear regression model, we can see that all the points are close to the linear fit line as well which means the two factors have a relationship very close to a linear relationship. "
   ]
  },
  {
   "cell_type": "markdown",
   "metadata": {},
   "source": [
    "## Summary statistics"
   ]
  },
  {
   "cell_type": "code",
   "execution_count": 3,
   "metadata": {},
   "outputs": [
    {
     "data": {
      "text/html": [
       "<div>\n",
       "<style scoped>\n",
       "    .dataframe tbody tr th:only-of-type {\n",
       "        vertical-align: middle;\n",
       "    }\n",
       "\n",
       "    .dataframe tbody tr th {\n",
       "        vertical-align: top;\n",
       "    }\n",
       "\n",
       "    .dataframe thead th {\n",
       "        text-align: right;\n",
       "    }\n",
       "</style>\n",
       "<table border=\"1\" class=\"dataframe\">\n",
       "  <thead>\n",
       "    <tr style=\"text-align: right;\">\n",
       "      <th></th>\n",
       "      <th>Mean</th>\n",
       "      <th>Median</th>\n",
       "      <th>Variance</th>\n",
       "      <th>Standard Deviation</th>\n",
       "      <th>SEM</th>\n",
       "    </tr>\n",
       "    <tr>\n",
       "      <th>Drug Regimen</th>\n",
       "      <th></th>\n",
       "      <th></th>\n",
       "      <th></th>\n",
       "      <th></th>\n",
       "      <th></th>\n",
       "    </tr>\n",
       "  </thead>\n",
       "  <tbody>\n",
       "    <tr>\n",
       "      <td>Capomulin</td>\n",
       "      <td>40.675741</td>\n",
       "      <td>41.557809</td>\n",
       "      <td>24.947764</td>\n",
       "      <td>4.994774</td>\n",
       "      <td>0.329346</td>\n",
       "    </tr>\n",
       "    <tr>\n",
       "      <td>Ceftamin</td>\n",
       "      <td>52.591172</td>\n",
       "      <td>51.776157</td>\n",
       "      <td>39.290177</td>\n",
       "      <td>6.268188</td>\n",
       "      <td>0.469821</td>\n",
       "    </tr>\n",
       "    <tr>\n",
       "      <td>Infubinol</td>\n",
       "      <td>52.884795</td>\n",
       "      <td>51.820584</td>\n",
       "      <td>43.128684</td>\n",
       "      <td>6.567243</td>\n",
       "      <td>0.492236</td>\n",
       "    </tr>\n",
       "    <tr>\n",
       "      <td>Ketapril</td>\n",
       "      <td>55.235638</td>\n",
       "      <td>53.698743</td>\n",
       "      <td>68.553577</td>\n",
       "      <td>8.279709</td>\n",
       "      <td>0.603860</td>\n",
       "    </tr>\n",
       "    <tr>\n",
       "      <td>Naftisol</td>\n",
       "      <td>54.331565</td>\n",
       "      <td>52.509285</td>\n",
       "      <td>66.173479</td>\n",
       "      <td>8.134708</td>\n",
       "      <td>0.596466</td>\n",
       "    </tr>\n",
       "    <tr>\n",
       "      <td>Placebo</td>\n",
       "      <td>54.033581</td>\n",
       "      <td>52.288934</td>\n",
       "      <td>61.168083</td>\n",
       "      <td>7.821003</td>\n",
       "      <td>0.581331</td>\n",
       "    </tr>\n",
       "    <tr>\n",
       "      <td>Propriva</td>\n",
       "      <td>52.322552</td>\n",
       "      <td>50.854632</td>\n",
       "      <td>42.351070</td>\n",
       "      <td>6.507770</td>\n",
       "      <td>0.512884</td>\n",
       "    </tr>\n",
       "    <tr>\n",
       "      <td>Ramicane</td>\n",
       "      <td>40.216745</td>\n",
       "      <td>40.673236</td>\n",
       "      <td>23.486704</td>\n",
       "      <td>4.846308</td>\n",
       "      <td>0.320955</td>\n",
       "    </tr>\n",
       "    <tr>\n",
       "      <td>Stelasyn</td>\n",
       "      <td>54.233149</td>\n",
       "      <td>52.431737</td>\n",
       "      <td>59.450562</td>\n",
       "      <td>7.710419</td>\n",
       "      <td>0.573111</td>\n",
       "    </tr>\n",
       "    <tr>\n",
       "      <td>Zoniferol</td>\n",
       "      <td>53.236507</td>\n",
       "      <td>51.818479</td>\n",
       "      <td>48.533355</td>\n",
       "      <td>6.966589</td>\n",
       "      <td>0.516398</td>\n",
       "    </tr>\n",
       "  </tbody>\n",
       "</table>\n",
       "</div>"
      ],
      "text/plain": [
       "                   Mean     Median   Variance  Standard Deviation       SEM\n",
       "Drug Regimen                                                               \n",
       "Capomulin     40.675741  41.557809  24.947764            4.994774  0.329346\n",
       "Ceftamin      52.591172  51.776157  39.290177            6.268188  0.469821\n",
       "Infubinol     52.884795  51.820584  43.128684            6.567243  0.492236\n",
       "Ketapril      55.235638  53.698743  68.553577            8.279709  0.603860\n",
       "Naftisol      54.331565  52.509285  66.173479            8.134708  0.596466\n",
       "Placebo       54.033581  52.288934  61.168083            7.821003  0.581331\n",
       "Propriva      52.322552  50.854632  42.351070            6.507770  0.512884\n",
       "Ramicane      40.216745  40.673236  23.486704            4.846308  0.320955\n",
       "Stelasyn      54.233149  52.431737  59.450562            7.710419  0.573111\n",
       "Zoniferol     53.236507  51.818479  48.533355            6.966589  0.516398"
      ]
     },
     "execution_count": 3,
     "metadata": {},
     "output_type": "execute_result"
    }
   ],
   "source": [
    "# Generate a summary statistics table of mean, median, variance, standard deviation, and SEM of the tumor volume for each regimen\n",
    "\n",
    "#combine two sheets into one sheets\n",
    "rawdata=pd.merge(mouse_metadata,study_results,on=\"Mouse ID\")\n",
    "\n",
    "#calculate stats results for each drug regimen\n",
    "mean=rawdata.groupby('Drug Regimen')[\"Tumor Volume (mm3)\"].mean()\n",
    "median=rawdata.groupby('Drug Regimen')[\"Tumor Volume (mm3)\"].median()\n",
    "variance=rawdata.groupby('Drug Regimen')[\"Tumor Volume (mm3)\"].var()\n",
    "SD=rawdata.groupby('Drug Regimen')[\"Tumor Volume (mm3)\"].std()\n",
    "SEM=rawdata.groupby('Drug Regimen')[\"Tumor Volume (mm3)\"].sem()\n",
    "\n",
    "#create a dataframe of the results\n",
    "data=pd.DataFrame({\"Mean\":mean,\"Median\":median,\"Variance\":variance,\"Standard Deviation\":SD,\"SEM\":SEM})\n",
    "data\n"
   ]
  },
  {
   "cell_type": "markdown",
   "metadata": {},
   "source": [
    "## Bar plots"
   ]
  },
  {
   "cell_type": "code",
   "execution_count": 4,
   "metadata": {},
   "outputs": [
    {
     "data": {
      "image/png": "[encoded data removed]",
      "text/plain": [
       "<Figure size 432x288 with 1 Axes>"
      ]
     },
     "metadata": {
      "needs_background": "light"
     },
     "output_type": "display_data"
    }
   ],
   "source": [
    "# Generate a bar plot showing number of data points for each treatment regimen using pandas\n",
    "\n",
    "#get counts of each drug regimen\n",
    "count=rawdata[\"Drug Regimen\"].value_counts()\n",
    "\n",
    "#create the bar plot\n",
    "graph=count.plot(kind='bar')\n",
    "graph.set_title(\"Number of Tests per Regimen\")\n",
    "graph.set_xlabel('Drug Specimen')\n",
    "graph.set_ylabel('Numer of Tests')\n",
    "graph.set_ylim(0,250)\n",
    "plt.show()\n",
    "\n"
   ]
  },
  {
   "cell_type": "code",
   "execution_count": 5,
   "metadata": {
    "scrolled": true
   },
   "outputs": [
    {
     "data": {
      "image/png": "[encoded data removed]",
      "text/plain": [
       "<Figure size 432x288 with 1 Axes>"
      ]
     },
     "metadata": {
      "needs_background": "light"
     },
     "output_type": "display_data"
    }
   ],
   "source": [
    "# Generate a bar plot showing number of data points for each treatment regimen using pyplot\n",
    "\n",
    "#get counts of each drug specimen\n",
    "count=rawdata[\"Drug Regimen\"].value_counts()\n",
    "\n",
    "#create result dataframe \n",
    "drug=pd.DataFrame(data=count)\n",
    "drug_revise=drug.reset_index()\n",
    "drug_final=drug_revise.rename(columns={\"index\":\"Drug Regimen\",\"Drug Regimen\":\"Count\"})\n",
    "\n",
    "#get x axis and y axis values\n",
    "x_name=drug_final[\"Drug Regimen\"]\n",
    "y_name=drug_final[\"Count\"]\n",
    "\n",
    "#plot the bar graph\n",
    "plt.bar(x_name,y_name,color='b',alpha=0.5,width=0.5,align=\"center\")\n",
    "plt.xticks(rotation=\"vertical\")\n",
    "plt.title(\"Number of Tests per Regimen\")\n",
    "plt.xlabel(\"Drug Regimen\")\n",
    "plt.ylabel(\"Numer of Tests\")\n",
    "plt.ylim(0,250)\n",
    "plt.show()\n"
   ]
  },
  {
   "cell_type": "markdown",
   "metadata": {},
   "source": [
    "## Pie plots"
   ]
  },
  {
   "cell_type": "code",
   "execution_count": 6,
   "metadata": {},
   "outputs": [
    {
     "data": {
      "image/png": "[encoded data removed]",
      "text/plain": [
       "<Figure size 432x288 with 1 Axes>"
      ]
     },
     "metadata": {},
     "output_type": "display_data"
    }
   ],
   "source": [
    "# Generate a pie plot showing the distribution of female versus male mice using pandas\n",
    "\n",
    "#get count of each gender\n",
    "num=rawdata[\"Sex\"].value_counts()\n",
    "\n",
    "#create the pir graph\n",
    "graph_pie=num.plot(kind='pie',autopct='%.1f',colors=['lightskyblue','yellow'],startangle=140,explode=[0.1,0])\n",
    "graph_pie.set_title(\"Male V.S. Female Mice Distribution\")\n",
    "plt.show()\n"
   ]
  },
  {
   "cell_type": "code",
   "execution_count": 7,
   "metadata": {},
   "outputs": [
    {
     "data": {
      "image/png": "[encoded data removed]",
      "text/plain": [
       "<Figure size 432x288 with 1 Axes>"
      ]
     },
     "metadata": {},
     "output_type": "display_data"
    }
   ],
   "source": [
    "# Generate a pie plot showing the distribution of female versus male mice using pyplot\n",
    "\n",
    "#get counts of each gender\n",
    "num=rawdata[\"Sex\"].value_counts()\n",
    "\n",
    "#create result datafram\n",
    "pie_data=pd.DataFrame(data=num)\n",
    "pie_data_revise=pie_data.reset_index()\n",
    "pie_data_final=pie_data_revise.rename(columns={\"index\":\"Sex\",\"Sex\":\"Count\"})\n",
    "count=pie_data_final[\"Count\"]\n",
    "sex=pie_data_final[\"Sex\"]\n",
    "color=[\"lightskyblue\",\"yellow\"]\n",
    "\n",
    "#plot pie graph\n",
    "plt.pie(count,labels=sex,colors=color,autopct=\"%1.1f%%\",shadow=True,startangle=140,wedgeprops={'alpha':0.5},explode=[0.1,0])\n",
    "plt.title(\"Male V.S. Female Mice Distribution\")\n",
    "plt.show()"
   ]
  },
  {
   "cell_type": "markdown",
   "metadata": {},
   "source": [
    "## Quartiles, outliers and boxplots"
   ]
  },
  {
   "cell_type": "code",
   "execution_count": 14,
   "metadata": {
    "scrolled": false
   },
   "outputs": [
    {
     "name": "stdout",
     "output_type": "stream",
     "text": [
      "          Timepoint  Tumor Volume (mm3)\n",
      "Mouse ID                               \n",
      "a262             45           70.717621\n",
      "a897             45           72.255963\n",
      "c282             45           65.815165\n",
      "c757             45           69.042841\n",
      "c766             45           69.823146\n",
      "e227             45           73.212939\n",
      "i477             10           47.520632\n",
      "i669             25           53.303185\n",
      "j235             20           52.942902\n",
      "l872              0           45.000000\n",
      "n763             40           58.011146\n",
      "o302             30           62.030594\n",
      "o795             45           73.059454\n",
      "q582             35           53.713158\n",
      "q787             45           66.096475\n",
      "r850             15           50.218605\n",
      "s152             25           64.119142\n",
      "s166             10           49.000125\n",
      "t718             45           63.423695\n",
      "t994             20           56.527952\n",
      "v409             10           50.649038\n",
      "v989             10           52.614689\n",
      "w167             35           68.134288\n",
      "x773             45           58.634971\n",
      "y478             45           66.842635\n",
      "The lower quartile of Tumor Volume (mm3) of Placebo is: 52.94290169\n",
      "The upper quartile of Tumor Volume (mm3) of Placebo is: 68.13428817\n",
      "The interquartile range of Tumor Volume (mm3) of Placebo is: 15.191386480000006\n",
      "Values below 30.15582196999999 could be outliers.\n",
      "Values above 90.92136789000001 could be outliers.\n"
     ]
    },
    {
     "data": {
      "text/html": [
       "<div>\n",
       "<style scoped>\n",
       "    .dataframe tbody tr th:only-of-type {\n",
       "        vertical-align: middle;\n",
       "    }\n",
       "\n",
       "    .dataframe tbody tr th {\n",
       "        vertical-align: top;\n",
       "    }\n",
       "\n",
       "    .dataframe thead th {\n",
       "        text-align: right;\n",
       "    }\n",
       "</style>\n",
       "<table border=\"1\" class=\"dataframe\">\n",
       "  <thead>\n",
       "    <tr style=\"text-align: right;\">\n",
       "      <th></th>\n",
       "      <th>Timepoint</th>\n",
       "      <th>Tumor Volume (mm3)</th>\n",
       "    </tr>\n",
       "    <tr>\n",
       "      <th>Mouse ID</th>\n",
       "      <th></th>\n",
       "      <th></th>\n",
       "    </tr>\n",
       "  </thead>\n",
       "  <tbody>\n",
       "  </tbody>\n",
       "</table>\n",
       "</div>"
      ],
      "text/plain": [
       "Empty DataFrame\n",
       "Columns: [Timepoint, Tumor Volume (mm3)]\n",
       "Index: []"
      ]
     },
     "execution_count": 14,
     "metadata": {},
     "output_type": "execute_result"
    }
   ],
   "source": [
    "# Calculate the final tumor volume of each mouse across four of the most promising treatment regimens. Calculate the IQR and quantitatively determine if there are any potential outliers.\n",
    "\n",
    "#get counts of metastatic drugs and find the number of healthy mice for each drug regimen\n",
    "count=rawdata.groupby(['Drug Regimen','Metastatic Sites'])[\"Metastatic Sites\"].count()\n",
    "df=pd.DataFrame(data=count)\n",
    "rename=df.rename(columns={\"Metastatic Sites\":\"Count\"})\n",
    "reset=rename.reset_index()\n",
    "find=reset.loc[reset[\"Metastatic Sites\"]==0]\n",
    "drop=find.drop(columns=['Metastatic Sites'])\n",
    "result=drop.set_index(\"Drug Regimen\")\n",
    "result[\"Count\"].sort_values(ascending=True)\n",
    "\n",
    "#get information about Placebo\n",
    "placebo=rawdata.loc[rawdata[\"Drug Regimen\"]==\"Placebo\"]\n",
    "placebo_maxtime=placebo.groupby('Mouse ID')[\"Timepoint\"].max()\n",
    "new_placebo=pd.merge(placebo_maxtime,rawdata,on=(\"Mouse ID\",\"Timepoint\"),how=\"left\")\n",
    "final_placebo=new_placebo[[\"Mouse ID\",\"Timepoint\",\"Tumor Volume (mm3)\"]].set_index('Mouse ID')\n",
    "print(final_placebo)\n",
    "\n",
    "#calculate placebo quartile information\n",
    "placebo_quartiles = final_placebo[\"Tumor Volume (mm3)\"].quantile([0.25,0.5,0.75])\n",
    "placebo_lowerq = placebo_quartiles[0.25]\n",
    "placebo_upperq = placebo_quartiles[0.75]\n",
    "placebo_iqr = placebo_upperq-placebo_lowerq\n",
    "placebo_lower_bound = placebo_lowerq - (1.5*placebo_iqr)\n",
    "placebo_upper_bound = placebo_upperq + (1.5*placebo_iqr)\n",
    "\n",
    "print(f\"The lower quartile of Tumor Volume (mm3) of Placebo is: {placebo_lowerq}\")\n",
    "print(f\"The upper quartile of Tumor Volume (mm3) of Placebo is: {placebo_upperq}\")\n",
    "print(f\"The interquartile range of Tumor Volume (mm3) of Placebo is: {placebo_iqr}\")\n",
    "print(f\"Values below {placebo_lower_bound} could be outliers.\")\n",
    "print(f\"Values above {placebo_upper_bound} could be outliers.\")\n",
    "\n",
    "#find potential outleirs\n",
    "outlier_placebo=final_placebo.loc[(final_placebo[\"Tumor Volume (mm3)\"]<placebo_lower_bound)|(final_placebo[\"Tumor Volume (mm3)\"]>placebo_upper_bound)]\n",
    "outlier_placebo"
   ]
  },
  {
   "cell_type": "code",
   "execution_count": 8,
   "metadata": {},
   "outputs": [
    {
     "name": "stdout",
     "output_type": "stream",
     "text": [
      "          Timepoint  Tumor Volume (mm3)\n",
      "Mouse ID                               \n",
      "a699             45           62.191414\n",
      "c927             40           64.183229\n",
      "g558             40           61.774963\n",
      "g570             45           70.492788\n",
      "g989             35           62.570880\n",
      "i635             45           58.633404\n",
      "k603             20           50.180109\n",
      "l215             10           53.653970\n",
      "n482              0           45.000000\n",
      "n630              5           46.099100\n",
      "n678             10           49.145709\n",
      "o523             10           47.081086\n",
      "o562             45           72.455421\n",
      "p310             25           55.341834\n",
      "r107             30           58.406473\n",
      "s141             30           55.841410\n",
      "s187             30           60.008783\n",
      "t198             45           64.911363\n",
      "u946             20           49.110050\n",
      "v991             45           70.167749\n",
      "w350             45           64.957562\n",
      "w746              5           49.453270\n",
      "x111             10           49.122969\n",
      "x209             10           48.929895\n",
      "z435             10           48.710661\n",
      "The lower quartile of Tumor Volume (mm3) of Propriva is: 49.12296898\n",
      "The upper quartile of Tumor Volume (mm3) of Propriva is: 62.57087961\n",
      "The interquartile range of Tumor Volume (mm3) of Propriva is: 13.447910629999996\n",
      "Values below 28.95110303500001 could be outliers.\n",
      "Values above 82.742745555 could be outliers.\n"
     ]
    },
    {
     "data": {
      "text/html": [
       "<div>\n",
       "<style scoped>\n",
       "    .dataframe tbody tr th:only-of-type {\n",
       "        vertical-align: middle;\n",
       "    }\n",
       "\n",
       "    .dataframe tbody tr th {\n",
       "        vertical-align: top;\n",
       "    }\n",
       "\n",
       "    .dataframe thead th {\n",
       "        text-align: right;\n",
       "    }\n",
       "</style>\n",
       "<table border=\"1\" class=\"dataframe\">\n",
       "  <thead>\n",
       "    <tr style=\"text-align: right;\">\n",
       "      <th></th>\n",
       "      <th>Timepoint</th>\n",
       "      <th>Tumor Volume (mm3)</th>\n",
       "    </tr>\n",
       "    <tr>\n",
       "      <th>Mouse ID</th>\n",
       "      <th></th>\n",
       "      <th></th>\n",
       "    </tr>\n",
       "  </thead>\n",
       "  <tbody>\n",
       "  </tbody>\n",
       "</table>\n",
       "</div>"
      ],
      "text/plain": [
       "Empty DataFrame\n",
       "Columns: [Timepoint, Tumor Volume (mm3)]\n",
       "Index: []"
      ]
     },
     "execution_count": 8,
     "metadata": {},
     "output_type": "execute_result"
    }
   ],
   "source": [
    "#get information about propriva\n",
    "propriva=rawdata.loc[rawdata[\"Drug Regimen\"]==\"Propriva\"]\n",
    "propriva_maxtime=propriva.groupby('Mouse ID')[\"Timepoint\"].max()\n",
    "new_propriva=pd.merge(propriva_maxtime,rawdata,on=(\"Mouse ID\",\"Timepoint\"),how=\"left\")\n",
    "final_propriva=new_propriva[[\"Mouse ID\",\"Timepoint\",\"Tumor Volume (mm3)\"]].set_index('Mouse ID')\n",
    "print(final_propriva)\n",
    "\n",
    "#calculate quartile of propriva\n",
    "propriva_quartiles = final_propriva[\"Tumor Volume (mm3)\"].quantile([0.25,0.5,0.75])\n",
    "propriva_lowerq = propriva_quartiles[0.25]\n",
    "propriva_upperq = propriva_quartiles[0.75]\n",
    "propriva_iqr = propriva_upperq-propriva_lowerq\n",
    "propriva_lower_bound = propriva_lowerq - (1.5*propriva_iqr)\n",
    "propriva_upper_bound = propriva_upperq + (1.5*propriva_iqr)\n",
    "\n",
    "print(f\"The lower quartile of Tumor Volume (mm3) of Propriva is: {propriva_lowerq}\")\n",
    "print(f\"The upper quartile of Tumor Volume (mm3) of Propriva is: {propriva_upperq}\")\n",
    "print(f\"The interquartile range of Tumor Volume (mm3) of Propriva is: {propriva_iqr}\")\n",
    "print(f\"Values below {propriva_lower_bound} could be outliers.\")\n",
    "print(f\"Values above {propriva_upper_bound} could be outliers.\")\n",
    "\n",
    "#find potential outliers\n",
    "outlier_propriva=final_propriva.loc[(final_propriva[\"Tumor Volume (mm3)\"]<propriva_lower_bound)|(final_propriva[\"Tumor Volume (mm3)\"]>propriva_upper_bound)]\n",
    "outlier_propriva"
   ]
  },
  {
   "cell_type": "code",
   "execution_count": 15,
   "metadata": {},
   "outputs": [
    {
     "name": "stdout",
     "output_type": "stream",
     "text": [
      "          Timepoint  Tumor Volume (mm3)\n",
      "Mouse ID                               \n",
      "a401             45           66.794156\n",
      "a788             30           60.413709\n",
      "b313             25           55.745146\n",
      "c264             45           67.942121\n",
      "c302             45           64.575222\n",
      "c559             45           61.840058\n",
      "d133              0           45.000000\n",
      "d164             10           47.474645\n",
      "f129             15           49.988302\n",
      "f394              5           47.033100\n",
      "f545             45           73.324432\n",
      "g296             45           68.163195\n",
      "j365             45           64.294085\n",
      "k754             20           52.693423\n",
      "k894             45           60.752704\n",
      "m331             15           52.110088\n",
      "n967             15           49.825004\n",
      "o926             45           62.327966\n",
      "p136             45           63.488697\n",
      "q511             45           68.611061\n",
      "q633             45           70.827796\n",
      "s337             45           62.109651\n",
      "w140              5           47.717952\n",
      "w575             45           68.401286\n",
      "x613             15           48.077646\n",
      "The lower quartile of Tumor Volume (mm3) of Zoniferol is: 49.98830246\n",
      "The upper quartile of Tumor Volume (mm3) of Zoniferol is: 66.79415599\n",
      "The interquartile range of Tumor Volume (mm3) of Zoniferol is: 16.805853529999993\n",
      "Values below 24.77952216500001 could be outliers.\n",
      "Values above 92.00293628499998 could be outliers.\n"
     ]
    },
    {
     "data": {
      "text/html": [
       "<div>\n",
       "<style scoped>\n",
       "    .dataframe tbody tr th:only-of-type {\n",
       "        vertical-align: middle;\n",
       "    }\n",
       "\n",
       "    .dataframe tbody tr th {\n",
       "        vertical-align: top;\n",
       "    }\n",
       "\n",
       "    .dataframe thead th {\n",
       "        text-align: right;\n",
       "    }\n",
       "</style>\n",
       "<table border=\"1\" class=\"dataframe\">\n",
       "  <thead>\n",
       "    <tr style=\"text-align: right;\">\n",
       "      <th></th>\n",
       "      <th>Timepoint</th>\n",
       "      <th>Tumor Volume (mm3)</th>\n",
       "    </tr>\n",
       "    <tr>\n",
       "      <th>Mouse ID</th>\n",
       "      <th></th>\n",
       "      <th></th>\n",
       "    </tr>\n",
       "  </thead>\n",
       "  <tbody>\n",
       "  </tbody>\n",
       "</table>\n",
       "</div>"
      ],
      "text/plain": [
       "Empty DataFrame\n",
       "Columns: [Timepoint, Tumor Volume (mm3)]\n",
       "Index: []"
      ]
     },
     "execution_count": 15,
     "metadata": {},
     "output_type": "execute_result"
    }
   ],
   "source": [
    "#get information about zoniferol\n",
    "zoniferol=rawdata.loc[rawdata[\"Drug Regimen\"]==\"Zoniferol\"]\n",
    "zoniferol_maxtime=zoniferol.groupby('Mouse ID')[\"Timepoint\"].max()\n",
    "new_zoniferol=pd.merge(zoniferol_maxtime,rawdata,on=(\"Mouse ID\",\"Timepoint\"),how=\"left\")\n",
    "final_zoniferol=new_zoniferol[[\"Mouse ID\",\"Timepoint\",\"Tumor Volume (mm3)\"]].set_index('Mouse ID')\n",
    "print(final_zoniferol)\n",
    "\n",
    "#calculate quartile of zoniferol\n",
    "zoniferol_quartiles = final_zoniferol[\"Tumor Volume (mm3)\"].quantile([0.25,0.5,0.75])\n",
    "zoniferol_lowerq = zoniferol_quartiles[0.25]\n",
    "zoniferol_upperq = zoniferol_quartiles[0.75]\n",
    "zoniferol_iqr = zoniferol_upperq-zoniferol_lowerq\n",
    "zoniferol_lower_bound = zoniferol_lowerq - (1.5*zoniferol_iqr)\n",
    "zoniferol_upper_bound = zoniferol_upperq + (1.5*zoniferol_iqr)\n",
    "\n",
    "print(f\"The lower quartile of Tumor Volume (mm3) of Zoniferol is: {zoniferol_lowerq}\")\n",
    "print(f\"The upper quartile of Tumor Volume (mm3) of Zoniferol is: {zoniferol_upperq}\")\n",
    "print(f\"The interquartile range of Tumor Volume (mm3) of Zoniferol is: {zoniferol_iqr}\")\n",
    "print(f\"Values below {zoniferol_lower_bound} could be outliers.\")\n",
    "print(f\"Values above {zoniferol_upper_bound} could be outliers.\")\n",
    "\n",
    "#find potential outliers\n",
    "outlier_zoniferol=final_zoniferol.loc[(final_zoniferol[\"Tumor Volume (mm3)\"]<zoniferol_lower_bound)|(final_zoniferol[\"Tumor Volume (mm3)\"]>zoniferol_upper_bound)]\n",
    "outlier_zoniferol"
   ]
  },
  {
   "cell_type": "code",
   "execution_count": 12,
   "metadata": {},
   "outputs": [
    {
     "name": "stdout",
     "output_type": "stream",
     "text": [
      "          Timepoint  Tumor Volume (mm3)\n",
      "Mouse ID                               \n",
      "a275             45           62.999356\n",
      "b447              0           45.000000\n",
      "b487             25           56.057749\n",
      "b759             30           55.742829\n",
      "f436             15           48.722078\n",
      "h531              5           47.784682\n",
      "j296             45           61.849023\n",
      "k210             45           68.923185\n",
      "l471             45           67.748662\n",
      "l490             30           57.918381\n",
      "l558             10           46.784535\n",
      "l661             45           59.851956\n",
      "l733             45           64.299830\n",
      "o287             45           59.741901\n",
      "p438             45           61.433892\n",
      "q483             40           64.192341\n",
      "t573              0           45.000000\n",
      "u149             25           52.925348\n",
      "u153              0           45.000000\n",
      "w151             45           67.527482\n",
      "x226              0           45.000000\n",
      "x581             45           64.634949\n",
      "x822             45           61.386660\n",
      "y769             45           68.594745\n",
      "y865             45           64.729837\n",
      "The lower quartile of Tumor Volume (mm3) of Ceftamin is: 48.72207785\n",
      "The upper quartile of Tumor Volume (mm3) of Ceftamin is: 64.29983003\n",
      "The interquartile range of Tumor Volume (mm3) of Ceftamin is: 15.577752179999997\n",
      "Values below 25.355449580000002 could be outliers.\n",
      "Values above 87.66645829999999 could be outliers.\n"
     ]
    },
    {
     "data": {
      "text/html": [
       "<div>\n",
       "<style scoped>\n",
       "    .dataframe tbody tr th:only-of-type {\n",
       "        vertical-align: middle;\n",
       "    }\n",
       "\n",
       "    .dataframe tbody tr th {\n",
       "        vertical-align: top;\n",
       "    }\n",
       "\n",
       "    .dataframe thead th {\n",
       "        text-align: right;\n",
       "    }\n",
       "</style>\n",
       "<table border=\"1\" class=\"dataframe\">\n",
       "  <thead>\n",
       "    <tr style=\"text-align: right;\">\n",
       "      <th></th>\n",
       "      <th>Timepoint</th>\n",
       "      <th>Tumor Volume (mm3)</th>\n",
       "    </tr>\n",
       "    <tr>\n",
       "      <th>Mouse ID</th>\n",
       "      <th></th>\n",
       "      <th></th>\n",
       "    </tr>\n",
       "  </thead>\n",
       "  <tbody>\n",
       "  </tbody>\n",
       "</table>\n",
       "</div>"
      ],
      "text/plain": [
       "Empty DataFrame\n",
       "Columns: [Timepoint, Tumor Volume (mm3)]\n",
       "Index: []"
      ]
     },
     "execution_count": 12,
     "metadata": {},
     "output_type": "execute_result"
    }
   ],
   "source": [
    "#get ceftamin information\n",
    "ceftamin=rawdata.loc[rawdata[\"Drug Regimen\"]==\"Ceftamin\"]\n",
    "ceftamin_maxtime=ceftamin.groupby('Mouse ID')[\"Timepoint\"].max()\n",
    "new_ceftamin=pd.merge(ceftamin_maxtime,rawdata,on=(\"Mouse ID\",\"Timepoint\"),how=\"left\")\n",
    "final_ceftamin=new_ceftamin[[\"Mouse ID\",\"Timepoint\",\"Tumor Volume (mm3)\"]].set_index('Mouse ID')\n",
    "print(final_ceftamin)\n",
    "\n",
    "#calculate quartile of ceftamin\n",
    "ceftamin_quartiles = final_ceftamin[\"Tumor Volume (mm3)\"].quantile([0.25,0.5,0.75])\n",
    "ceftamin_lowerq = ceftamin_quartiles[0.25]\n",
    "ceftamin_upperq = ceftamin_quartiles[0.75]\n",
    "ceftamin_iqr = ceftamin_upperq-ceftamin_lowerq\n",
    "ceftamin_lower_bound = ceftamin_lowerq - (1.5*ceftamin_iqr)\n",
    "ceftamin_upper_bound = ceftamin_upperq + (1.5*ceftamin_iqr)\n",
    "\n",
    "print(f\"The lower quartile of Tumor Volume (mm3) of Ceftamin is: {ceftamin_lowerq}\")\n",
    "print(f\"The upper quartile of Tumor Volume (mm3) of Ceftamin is: {ceftamin_upperq}\")\n",
    "print(f\"The interquartile range of Tumor Volume (mm3) of Ceftamin is: {ceftamin_iqr}\")\n",
    "print(f\"Values below {ceftamin_lower_bound} could be outliers.\")\n",
    "print(f\"Values above {ceftamin_upper_bound} could be outliers.\")\n",
    "\n",
    "#find potential outlier\n",
    "outlier_ceftamin=final_ceftamin.loc[(final_ceftamin[\"Tumor Volume (mm3)\"]<ceftamin_lower_bound)|(final_ceftamin[\"Tumor Volume (mm3)\"]>ceftamin_upper_bound)]\n",
    "outlier_ceftamin"
   ]
  },
  {
   "cell_type": "code",
   "execution_count": 10,
   "metadata": {},
   "outputs": [
    {
     "data": {
      "image/png": "[encoded data removed]",
      "text/plain": [
       "<Figure size 432x288 with 1 Axes>"
      ]
     },
     "metadata": {
      "needs_background": "light"
     },
     "output_type": "display_data"
    }
   ],
   "source": [
    "# Generate a box plot of the final tumor volume of each mouse across four regimens of interest\n",
    "\n",
    "#get counts of metastatic drugs and find the number of healthy mice for each drug regimen\n",
    "count=rawdata.groupby(['Drug Regimen','Metastatic Sites'])[\"Metastatic Sites\"].count()\n",
    "df=pd.DataFrame(data=count)\n",
    "rename=df.rename(columns={\"Metastatic Sites\":\"Count\"})\n",
    "reset=rename.reset_index()\n",
    "find=reset.loc[reset[\"Metastatic Sites\"]==0]\n",
    "drop=find.drop(columns=['Metastatic Sites'])\n",
    "result=drop.set_index(\"Drug Regimen\")\n",
    "result[\"Count\"].sort_values(ascending=True)\n",
    "\n",
    "#get information of each drug regimen\n",
    "placebo=rawdata.loc[rawdata[\"Drug Regimen\"]==\"Placebo\"]\n",
    "propriva=rawdata.loc[rawdata[\"Drug Regimen\"]==\"Propriva\"]\n",
    "zoniferol=rawdata.loc[rawdata[\"Drug Regimen\"]==\"Zoniferol\"]\n",
    "ceftamin=rawdata.loc[rawdata[\"Drug Regimen\"]==\"Ceftamin\"]\n",
    "\n",
    "#find the max timepoint of each drug regimen\n",
    "placebo_maxtime=placebo.groupby('Mouse ID')[\"Timepoint\"].max()\n",
    "propriva_maxtime=propriva.groupby('Mouse ID')[\"Timepoint\"].max()\n",
    "zoniferol_maxtime=zoniferol.groupby('Mouse ID')[\"Timepoint\"].max()\n",
    "ceftamin_maxtime=ceftamin.groupby('Mouse ID')[\"Timepoint\"].max()\n",
    "\n",
    "#get tumor volume information for each drug regimen\n",
    "new_placebo=pd.merge(placebo_maxtime,rawdata,on=(\"Mouse ID\",\"Timepoint\"),how=\"left\")\n",
    "final_placebo=new_placebo[[\"Mouse ID\",\"Timepoint\",\"Tumor Volume (mm3)\"]]\n",
    "\n",
    "new_propriva=pd.merge(propriva_maxtime,rawdata,on=(\"Mouse ID\",\"Timepoint\"),how=\"left\")\n",
    "final_propriva=new_propriva[[\"Mouse ID\",\"Timepoint\",\"Tumor Volume (mm3)\"]]\n",
    "\n",
    "new_zoniferol=pd.merge(zoniferol_maxtime,rawdata,on=(\"Mouse ID\",\"Timepoint\"),how=\"left\")\n",
    "final_zoniferol=new_zoniferol[[\"Mouse ID\",\"Timepoint\",\"Tumor Volume (mm3)\"]]\n",
    "\n",
    "new_ceftamin=pd.merge(ceftamin_maxtime,rawdata,on=(\"Mouse ID\",\"Timepoint\"),how=\"left\")\n",
    "final_ceftamin=new_ceftamin[[\"Mouse ID\",\"Timepoint\",\"Tumor Volume (mm3)\"]]\n",
    "\n",
    "#plot box plot\n",
    "fig1, ax1 = plt.subplots()\n",
    "ax1.set_title('Tumor Volumes (mm3) of Drug Regimen')\n",
    "ax1.set_xlabel('Drug Regimen')\n",
    "ax1.set_ylabel('Tumor VOlumes (mm3)')\n",
    "ax1.boxplot([final_placebo[\"Tumor Volume (mm3)\"],final_propriva[\"Tumor Volume (mm3)\"],final_zoniferol[\"Tumor Volume (mm3)\"],final_ceftamin[\"Tumor Volume (mm3)\"]],labels=[\"Placebo\",\"Propriva\",\"Zoniferol\",\"Ceftamin\"])\n",
    "plt.show()\n"
   ]
  },
  {
   "cell_type": "markdown",
   "metadata": {},
   "source": [
    "## Line and scatter plots"
   ]
  },
  {
   "cell_type": "code",
   "execution_count": 14,
   "metadata": {
    "scrolled": true
   },
   "outputs": [
    {
     "data": {
      "image/png": "[encoded data removed]",
      "text/plain": [
       "<Figure size 432x288 with 1 Axes>"
      ]
     },
     "metadata": {
      "needs_background": "light"
     },
     "output_type": "display_data"
    }
   ],
   "source": [
    "# Generate a line plot of time point versus tumor volume for a mouse treated with Capomulin\n",
    "\n",
    "#filter rawdata to get information of timepoint, mouse ID, tumor volume and drug regimen\n",
    "data=rawdata.groupby(['Mouse ID','Tumor Volume (mm3)','Drug Regimen'])[\"Timepoint\"].unique().sort_values(ascending=True)\n",
    "\n",
    "#find information about a specific mouse ID in Capomulin regimen\n",
    "new_table=pd.DataFrame(data=data)\n",
    "revise=new_table.reset_index()\n",
    "final=revise.loc[revise[\"Drug Regimen\"]==\"Capomulin\"]\n",
    "mouse=final.loc[final[\"Mouse ID\"]==\"b128\"]\n",
    "\n",
    "#plot line graph\n",
    "time=mouse[\"Timepoint\"]\n",
    "volume=mouse[\"Tumor Volume (mm3)\"]\n",
    "plt.plot(time,volume)\n",
    "plt.xlabel(\"Time\")\n",
    "plt.ylabel(\"Tumor Volume (mm3)\")\n",
    "plt.title(\"Time Versus Tumor Volume For Mouse Treated With Capomulin\")\n",
    "plt.ylim(36,46)\n",
    "plt.legend(['b128'],loc=\"best\")\n",
    "plt.grid()\n",
    "plt.show()\n"
   ]
  },
  {
   "cell_type": "code",
   "execution_count": 17,
   "metadata": {
    "scrolled": true
   },
   "outputs": [
    {
     "data": {
      "image/png": "[encoded data removed]",
      "text/plain": [
       "<Figure size 432x288 with 1 Axes>"
      ]
     },
     "metadata": {
      "needs_background": "light"
     },
     "output_type": "display_data"
    }
   ],
   "source": [
    "# Generate a scatter plot of mouse weight versus average tumor volume for the Capomulin regimen\n",
    "\n",
    "#filter rawdata to get information of weight and tumor volume within Capomulin regimen\n",
    "first=rawdata.groupby(['Drug Regimen','Weight (g)'])[\"Tumor Volume (mm3)\"].mean()\n",
    "revise=first.reset_index()\n",
    "final=revise.loc[revise[\"Drug Regimen\"]==\"Capomulin\"]\n",
    "weight=final[\"Weight (g)\"]\n",
    "volume=final[\"Tumor Volume (mm3)\"]\n",
    "\n",
    "#plot scatter plot\n",
    "plt.scatter(weight,volume,marker=\"o\",facecolors=\"red\",edgecolors=\"black\")\n",
    "plt.title(\"Mouse Weight Versus Average Tumor Volume For Capomulin Regimen\")\n",
    "plt.xlabel(\"Weight (g)\")\n",
    "plt.ylabel(\"Average Tumor Volume (mm3)\")\n",
    "plt.xlim(14,26)\n",
    "plt.ylim(35,46)\n",
    "plt.show()\n"
   ]
  },
  {
   "cell_type": "code",
   "execution_count": 18,
   "metadata": {
    "scrolled": false
   },
   "outputs": [
    {
     "name": "stdout",
     "output_type": "stream",
     "text": [
      "The correlation between both factors is 0.95\n"
     ]
    },
    {
     "data": {
      "image/png": "[encoded data removed]",
      "text/plain": [
       "<Figure size 432x288 with 1 Axes>"
      ]
     },
     "metadata": {
      "needs_background": "light"
     },
     "output_type": "display_data"
    }
   ],
   "source": [
    "# Calculate the correlation coefficient and linear regression model for mouse weight and average tumor volume for the Capomulin regimen\n",
    "import scipy.stats as st\n",
    "\n",
    "#calculate correlation between weight and tumor volume\n",
    "correlation=st.pearsonr(final[\"Weight (g)\"],final[\"Tumor Volume (mm3)\"])\n",
    "print(f\"The correlation between both factors is {round(correlation[0],2)}\")\n",
    "\n",
    "weight=final[\"Weight (g)\"]\n",
    "volume=final[\"Tumor Volume (mm3)\"]\n",
    "\n",
    "#calculate linear regression model\n",
    "(slope, intercept, rvalue, pvalue, stderr) = st.linregress(weight, volume)\n",
    "fit = slope * weight + intercept\n",
    "line_eq = \"y = \" + str(round(slope,2)) + \"x + \" + str(round(intercept,2))\n",
    "\n",
    "#plot scatter graph\n",
    "plt.scatter(weight,volume,marker=\"o\",facecolors=\"red\",edgecolors=\"black\")\n",
    "plt.title(\"Mouse Weight Versus Average Tumor Volume For Capomulin Regimen\")\n",
    "plt.xlabel(\"Weight (g)\")\n",
    "plt.ylabel(\"Average Tumor Volume (mm3)\")\n",
    "plt.xlim(14,26)\n",
    "plt.ylim(35,46)\n",
    "\n",
    "#plot linear fit line\n",
    "plt.plot(weight,fit,\"--\")\n",
    "plt.annotate(line_eq,(20,40),fontsize=15,color=\"blue\")\n",
    "\n",
    "plt.show()\n",
    "\n"
   ]
  },
  {
   "cell_type": "code",
   "execution_count": null,
   "metadata": {},
   "outputs": [],
   "source": []
  }
 ],
 "metadata": {
  "anaconda-cloud": {},
  "kernelspec": {
   "display_name": "Python 3",
   "language": "python",
   "name": "python3"
  },
  "language_info": {
   "codemirror_mode": {
    "name": "ipython",
    "version": 3
   },
   "file_extension": ".py",
   "mimetype": "text/x-python",
   "name": "python",
   "nbconvert_exporter": "python",
   "pygments_lexer": "ipython3",
   "version": "3.7.4"
  }
 },
 "nbformat": 4,
 "nbformat_minor": 2
}
